{
 "cells": [
  {
   "cell_type": "code",
   "execution_count": 96,
   "metadata": {},
   "outputs": [],
   "source": [
    "import warnings\n",
    "warnings.filterwarnings('ignore')\n",
    "warnings.filterwarnings('ignore', category=DeprecationWarning)\n",
    "\n",
    "import numpy as np\n",
    "import pandas as pd\n",
    "import matplotlib.pyplot as plt\n",
    "import re\n",
    "from nltk.corpus import stopwords\n",
    "import nltk\n",
    "from nltk import pos_tag, pos_tag_sents\n",
    "import gensim\n",
    "from gensim.models import Doc2Vec\n",
    "from gensim.models.doc2vec import TaggedDocument\n",
    "\n",
    "from sklearn.linear_model import LinearRegression\n",
    "from sklearn.preprocessing import LabelEncoder\n",
    "from sklearn.ensemble import RandomForestRegressor\n",
    "from sklearn.model_selection import train_test_split\n",
    "\n",
    "from sklearn.base import BaseEstimator, TransformerMixin\n",
    "from sklearn.pipeline import Pipeline\n"
   ]
  },
  {
   "cell_type": "code",
   "execution_count": 97,
   "metadata": {},
   "outputs": [],
   "source": [
    "file = pd.read_csv('../Campaign Type.csv', sep='|')\n",
    "file = file.loc[:,['Campaign','Product Type','Subject Line','Sent','Unique Open','Unique Click']]\n",
    "file.columns = ['campaign', 'prod_type', 'subject', 'sent', 'uniq_open', 'uniq_click']"
   ]
  },
  {
   "cell_type": "code",
   "execution_count": 98,
   "metadata": {},
   "outputs": [],
   "source": [
    "file['openrate%'] = 100*(file['uniq_open'] / file['sent'])\n",
    "file['clickrate%'] = 100*(file['uniq_click'] / file['sent'])"
   ]
  },
  {
   "cell_type": "code",
   "execution_count": 99,
   "metadata": {},
   "outputs": [],
   "source": [
    "def count_pos(df, pos_type):\n",
    "    nouns = ['NN','NNS','NNP','NNPS']\n",
    "    verbs = ['VB','VBD','VBG','VBN','VBP','VBZ']\n",
    "    adverbs = ['RB','RBR','RBS']\n",
    "    adjectives = ['JJ','JJR','JJS']\n",
    "    \n",
    "    d = dict(pos_tag(df['subject'].split(',')))\n",
    "    pos_values = list(d.values())\n",
    "    cnt = 0\n",
    "    \n",
    "    if pos_type == 'noun':\n",
    "        for each in pos_values:\n",
    "            if each in nouns:\n",
    "                cnt += 1\n",
    "    elif pos_type == 'verb':\n",
    "        for each in pos_values:\n",
    "            if each in verbs:\n",
    "                cnt += 1\n",
    "    elif pos_type == 'adv':\n",
    "        for each in pos_values:\n",
    "            if each in adverbs:\n",
    "                cnt += 1\n",
    "    elif pos_type == 'adj':\n",
    "        for each in pos_values:\n",
    "            if each in adjectives:\n",
    "                cnt += 1\n",
    "    else:\n",
    "        pass\n",
    "    return cnt\n",
    "\n",
    "class processing(TransformerMixin):\n",
    "    \"\"\"\n",
    "    [mandatory] make sure the df has 'subject' field\n",
    "    [optional] 'campaign' and/or 'prod_type' fields\n",
    "    \"\"\"\n",
    "    def __init__(self, df):\n",
    "        self.df = df\n",
    "        \n",
    "    def fit(self, *_):\n",
    "        return self\n",
    "    \n",
    "    def transform(df, *_):\n",
    "        stop_words = set(stopwords.words('english'))\n",
    "\n",
    "        df['subject'] = df['subject'].apply(''.join).str.replace('[^A-Za-z\\d!?\\s]+', '').str.split(expand=False)\n",
    "        df['subject'] = df['subject'].apply(lambda x: ','.join([w for w in x if not w in stop_words]))\n",
    "\n",
    "        df.loc[:, 'word_count'] = df.apply(lambda x: len(x['subject'].split(',')), axis = 1)\n",
    "        df.loc[:, 'char_len'] = df.apply(lambda x: len(x['subject']), axis = 1)\n",
    "        df.loc[:, 'avg_word_len'] = df['char_len'] / df['word_count']\n",
    "        df.loc[:, 'mentioned_amt'] = df.apply(lambda x: len(re.findall(\"Rs\\d+\", x['subject'])), axis = 1)\n",
    "        df.loc[:, 'mentioned_Indus'] = df.apply(lambda x: len(re.findall(\"indus*\", x['subject'].lower())), axis = 1)\n",
    "        df.loc[:, 'nouns'] = df.apply(lambda x: count_pos(x, pos_type='noun'), axis = 1)\n",
    "        df.loc[:, 'verbs'] = df.apply(lambda x: count_pos(x, pos_type='verbs'), axis = 1)\n",
    "        df.loc[:, 'adverbs'] = df.apply(lambda x: count_pos(x, pos_type='adverbs'), axis = 1)\n",
    "        df.loc[:, 'adjectives'] = df.apply(lambda x: count_pos(x, pos_type='adjectives'), axis = 1)\n",
    "\n",
    "        df = df.drop(['char_len'], axis = 1)\n",
    "\n",
    "        le = LabelEncoder()\n",
    "        cols = list(df.columns)\n",
    "        if 'campaign' in cols:\n",
    "            df['campaign'] = le.fit_transform(df['campaign'])\n",
    "        if 'prod_type' in cols:\n",
    "            df['prod_type'] = le.fit_transform(df['prod_type'])\n",
    "\n",
    "    #     df = df.drop_duplicates()\n",
    "\n",
    "        return df"
   ]
  },
  {
   "cell_type": "code",
   "execution_count": 100,
   "metadata": {},
   "outputs": [],
   "source": [
    "def get_doc(df):\n",
    "        df = df[['subject']]\n",
    "        taggeddoc = []\n",
    "        texts = []\n",
    "\n",
    "        for i, row in file.iterrows():\n",
    "            #for tagged doc\n",
    "            wordslist = []\n",
    "            tagslist = []\n",
    "\n",
    "            td = TaggedDocument(gensim.utils.to_unicode(str.encode(row['subject'])).split(','), [str(i)])\n",
    "            taggeddoc.append(td)\n",
    "        return taggeddoc\n",
    "\n",
    "    \n",
    "class embedding(TransformerMixin):\n",
    "    \"\"\"\n",
    "    sentence embedding - currently doc2vec\n",
    "    [mandatory] make sure df has 'subject' field\n",
    "    \"\"\"\n",
    "    def __init__(self, df):\n",
    "        self.df = df\n",
    "        \n",
    "    def fit(self, *_):\n",
    "        return self\n",
    "\n",
    "    def transform(df, *_):\n",
    "        documents = get_doc(df)\n",
    "\n",
    "        vec_dim_size = 20\n",
    "        d2v = Doc2Vec(documents=documents, dm = 0, alpha=0.025, size=vec_dim_size, min_alpha=0.025, min_count=1)\n",
    "\n",
    "        for epoch in range(200):\n",
    "            if epoch % 20 == 0:\n",
    "                print('...training epoch %s'%epoch)\n",
    "            d2v.train(documents, total_examples = len(documents), epochs=1)\n",
    "            d2v.alpha -= 0.002 # decreasing the lr\n",
    "            d2v.min_alpha = d2v.alpha # fix the lr, no decay\n",
    "\n",
    "        sub_d2v_df = pd.DataFrame(d2v.docvecs.vectors_docs)\n",
    "        cols = ['s'+str(i) for i in range(vec_dim_size)]\n",
    "        sub_d2v_df.columns = cols\n",
    "\n",
    "        tmp_df = df.drop(['subject','sent','uniq_open','uniq_click','clickrate%'], axis = 1)\n",
    "        df_cols = list(tmp_df.columns)\n",
    "        if 'campaign' in df_cols: # remove 'campaign' col (if present)\n",
    "            tmp_df = tmp_df.drop(['campaign'], axis = 1)\n",
    "        if 'prod_type' in df_cols: # remove 'prod_type' col (if present)\n",
    "            tmp_df = tmp_df.drop(['prod_type'], axis = 1)\n",
    "\n",
    "        #concat d2v df and processed df\n",
    "        sub_df = pd.concat([sub_d2v_df, tmp_df], axis = 1)\n",
    "\n",
    "        return sub_df"
   ]
  },
  {
   "cell_type": "code",
   "execution_count": 101,
   "metadata": {},
   "outputs": [],
   "source": [
    "class splitter(TransformerMixin):\n",
    "    \n",
    "    def __init__(self, df):\n",
    "        self.df = df\n",
    "    \n",
    "    def fit(self, *_):\n",
    "        return self\n",
    "    \n",
    "    def transform(df, *_):\n",
    "        X = df.drop(['openrate%'], axis = 1)\n",
    "        y = df[['openrate%']]\n",
    "        X_train, X_test, y_train, y_test = train_test_split(X, y, test_size=0.3, random_state=42)\n",
    "        \n",
    "        return X_train, X_test, y_train, y_test"
   ]
  },
  {
   "cell_type": "code",
   "execution_count": 106,
   "metadata": {
    "scrolled": false
   },
   "outputs": [],
   "source": [
    "pipe = Pipeline([('processing', processing),\n",
    "                 ('embedding', embedding),\n",
    "                 ('splitter', splitter)])#,\n",
    "#                  ('rfr', RandomForestRegressor(n_estimators=10))])"
   ]
  },
  {
   "cell_type": "code",
   "execution_count": 107,
   "metadata": {
    "scrolled": false
   },
   "outputs": [
    {
     "name": "stdout",
     "output_type": "stream",
     "text": [
      "...training epoch 0\n",
      "...training epoch 20\n",
      "...training epoch 40\n",
      "...training epoch 60\n",
      "...training epoch 80\n",
      "...training epoch 100\n",
      "...training epoch 120\n",
      "...training epoch 140\n",
      "...training epoch 160\n",
      "...training epoch 180\n"
     ]
    }
   ],
   "source": [
    "R = pipe.transform(file)"
   ]
  },
  {
   "cell_type": "code",
   "execution_count": 108,
   "metadata": {
    "scrolled": true
   },
   "outputs": [
    {
     "name": "stdout",
     "output_type": "stream",
     "text": [
      "(3430, 28)\n",
      "(3430, 1)\n",
      "(1470, 28)\n",
      "(1470, 1)\n"
     ]
    }
   ],
   "source": [
    "X_train, X_test, y_train, y_test = R\n",
    "print(X_train.shape)\n",
    "print(y_train.shape)\n",
    "print(X_test.shape)\n",
    "print(y_test.shape)"
   ]
  },
  {
   "cell_type": "code",
   "execution_count": 111,
   "metadata": {},
   "outputs": [
    {
     "name": "stdout",
     "output_type": "stream",
     "text": [
      "Training set score: 0.84\n",
      "Test set score: 0.11\n",
      "------------------------------\n",
      "MSE: 0.04206563208902949\n",
      "------------------------------\n"
     ]
    },
    {
     "data": {
      "image/png": "[encoded data removed]",
      "text/plain": [
       "<Figure size 432x288 with 1 Axes>"
      ]
     },
     "metadata": {},
     "output_type": "display_data"
    },
    {
     "data": {
      "text/html": [
       "<div>\n",
       "<style scoped>\n",
       "    .dataframe tbody tr th:only-of-type {\n",
       "        vertical-align: middle;\n",
       "    }\n",
       "\n",
       "    .dataframe tbody tr th {\n",
       "        vertical-align: top;\n",
       "    }\n",
       "\n",
       "    .dataframe thead th {\n",
       "        text-align: right;\n",
       "    }\n",
       "</style>\n",
       "<table border=\"1\" class=\"dataframe\">\n",
       "  <thead>\n",
       "    <tr style=\"text-align: right;\">\n",
       "      <th></th>\n",
       "      <th>features</th>\n",
       "      <th>feature_imp</th>\n",
       "    </tr>\n",
       "  </thead>\n",
       "  <tbody>\n",
       "    <tr>\n",
       "      <th>21</th>\n",
       "      <td>avg_word_len</td>\n",
       "      <td>0.221923</td>\n",
       "    </tr>\n",
       "    <tr>\n",
       "      <th>8</th>\n",
       "      <td>s8</td>\n",
       "      <td>0.058468</td>\n",
       "    </tr>\n",
       "    <tr>\n",
       "      <th>0</th>\n",
       "      <td>s0</td>\n",
       "      <td>0.053803</td>\n",
       "    </tr>\n",
       "    <tr>\n",
       "      <th>11</th>\n",
       "      <td>s11</td>\n",
       "      <td>0.053712</td>\n",
       "    </tr>\n",
       "    <tr>\n",
       "      <th>16</th>\n",
       "      <td>s16</td>\n",
       "      <td>0.052011</td>\n",
       "    </tr>\n",
       "    <tr>\n",
       "      <th>13</th>\n",
       "      <td>s13</td>\n",
       "      <td>0.049513</td>\n",
       "    </tr>\n",
       "    <tr>\n",
       "      <th>5</th>\n",
       "      <td>s5</td>\n",
       "      <td>0.044356</td>\n",
       "    </tr>\n",
       "    <tr>\n",
       "      <th>1</th>\n",
       "      <td>s1</td>\n",
       "      <td>0.043667</td>\n",
       "    </tr>\n",
       "    <tr>\n",
       "      <th>18</th>\n",
       "      <td>s18</td>\n",
       "      <td>0.041237</td>\n",
       "    </tr>\n",
       "    <tr>\n",
       "      <th>4</th>\n",
       "      <td>s4</td>\n",
       "      <td>0.038963</td>\n",
       "    </tr>\n",
       "  </tbody>\n",
       "</table>\n",
       "</div>"
      ],
      "text/plain": [
       "        features  feature_imp\n",
       "21  avg_word_len     0.221923\n",
       "8             s8     0.058468\n",
       "0             s0     0.053803\n",
       "11           s11     0.053712\n",
       "16           s16     0.052011\n",
       "13           s13     0.049513\n",
       "5             s5     0.044356\n",
       "1             s1     0.043667\n",
       "18           s18     0.041237\n",
       "4             s4     0.038963"
      ]
     },
     "execution_count": 111,
     "metadata": {},
     "output_type": "execute_result"
    }
   ],
   "source": [
    "rfr = RandomForestRegressor(n_estimators=10)\n",
    "\n",
    "rfr.fit(X_train, y_train)\n",
    "y_pred = rfr.predict(X_test)\n",
    "\n",
    "print(\"Training set score: {:.2f}\".format(rfr.score(X_train, y_train)))\n",
    "print(\"Test set score: {:.2f}\".format(rfr.score(X_test, y_test)))\n",
    "print('-'*30)\n",
    "print(\"MSE: {}\".format(np.mean(y_test.values - y_pred.ravel()) ** 2))\n",
    "print('-'*30)\n",
    "\n",
    "plt.scatter(y_test, y_pred)\n",
    "plt.show()\n",
    "\n",
    "features = X_train.columns.tolist()\n",
    "\n",
    "feat_imp = pd.DataFrame({\"features\": features, \"feature_imp\": rfr.feature_importances_}).sort_values(\"feature_imp\", ascending=False)\n",
    "feat_imp.head(10)"
   ]
  },
  {
   "cell_type": "code",
   "execution_count": null,
   "metadata": {},
   "outputs": [],
   "source": []
  },
  {
   "cell_type": "code",
   "execution_count": null,
   "metadata": {},
   "outputs": [],
   "source": []
  },
  {
   "cell_type": "code",
   "execution_count": null,
   "metadata": {},
   "outputs": [],
   "source": []
  },
  {
   "cell_type": "code",
   "execution_count": null,
   "metadata": {},
   "outputs": [],
   "source": []
  },
  {
   "cell_type": "code",
   "execution_count": 43,
   "metadata": {},
   "outputs": [
    {
     "data": {
      "image/png": "[encoded data removed]",
      "text/plain": [
       "<matplotlib.figure.Figure at 0x7ff4447b9a58>"
      ]
     },
     "metadata": {},
     "output_type": "display_data"
    }
   ],
   "source": [
    "# distribution of y label\n",
    "plt.hist(y.values, bins=10)\n",
    "plt.show()"
   ]
  },
  {
   "cell_type": "code",
   "execution_count": null,
   "metadata": {},
   "outputs": [],
   "source": []
  },
  {
   "cell_type": "code",
   "execution_count": null,
   "metadata": {
    "collapsed": true
   },
   "outputs": [],
   "source": []
  }
 ],
 "metadata": {
  "kernelspec": {
   "display_name": "Python 3",
   "language": "python",
   "name": "python3"
  },
  "language_info": {
   "codemirror_mode": {
    "name": "ipython",
    "version": 3
   },
   "file_extension": ".py",
   "mimetype": "text/x-python",
   "name": "python",
   "nbconvert_exporter": "python",
   "pygments_lexer": "ipython3",
   "version": "3.6.5"
  }
 },
 "nbformat": 4,
 "nbformat_minor": 2
}
